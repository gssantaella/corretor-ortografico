{
 "cells": [
  {
   "cell_type": "markdown",
   "id": "744d0418-6cd2-4310-9388-713a08f30bfe",
   "metadata": {},
   "source": [
    "# CORRETOR ORTOGRAFICO NLP"
   ]
  },
  {
   "cell_type": "code",
   "execution_count": 1,
   "id": "959b75b5-b75f-4f4f-aef4-e811607893e0",
   "metadata": {},
   "outputs": [],
   "source": [
    "import nltk"
   ]
  },
  {
   "cell_type": "markdown",
   "id": "e3ca9b6a-daac-4de0-98c7-78b6ac15290d",
   "metadata": {},
   "source": [
    "### AULA 1"
   ]
  },
  {
   "cell_type": "code",
   "execution_count": 2,
   "id": "9a492f88-1a5c-4ea3-a20b-84ef7928096a",
   "metadata": {},
   "outputs": [
    {
     "data": {
      "text/plain": [
       "'\\n\\n\\nimagem \\n\\nTemos a seguinte classe que representa um usuário no nosso sistema:\\n\\njava\\n\\nPara salvar um novo usuário, várias validações são feitas, como por exemplo: Ver se o nome só contém letras, [**o CPF só números**] e ver se o usuário possui no mínimo 18 anos. Veja o método que faz essa validação:\\n\\njava \\n\\nSuponha agora que eu tenha outra classe, a classe `Produto`, que contém um atributo nome e eu quero fazer a mesma validação que fiz para o nome do usuário: Ver se só contém letras. E aí? Vou'"
      ]
     },
     "execution_count": 2,
     "metadata": {},
     "output_type": "execute_result"
    }
   ],
   "source": [
    "with open('res/artigos.txt', 'r', encoding='utf-8') as f:\n",
    "    artigos = f.read()\n",
    "artigos[:500]"
   ]
  },
  {
   "cell_type": "code",
   "execution_count": 3,
   "id": "dd46b4e2-b7a6-4868-8ff2-c7f9c7b4b309",
   "metadata": {},
   "outputs": [
    {
     "data": {
      "text/plain": [
       "91"
      ]
     },
     "execution_count": 3,
     "metadata": {},
     "output_type": "execute_result"
    }
   ],
   "source": [
    "tokens = artigos[:500].split()\n",
    "len(tokens)"
   ]
  },
  {
   "cell_type": "code",
   "execution_count": 4,
   "id": "79c4b862-5107-4982-b464-3e3b23c98b30",
   "metadata": {},
   "outputs": [
    {
     "data": {
      "text/plain": [
       "['imagem', 'Temos', 'a', 'seguinte', 'classe']"
      ]
     },
     "execution_count": 4,
     "metadata": {},
     "output_type": "execute_result"
    }
   ],
   "source": [
    "tokens[:5]"
   ]
  },
  {
   "cell_type": "markdown",
   "id": "bb07e0bb-b567-4f1b-b0dd-d1d9880a97aa",
   "metadata": {},
   "source": [
    "### AULA 2"
   ]
  },
  {
   "cell_type": "code",
   "execution_count": 5,
   "id": "7f9afa35-167f-44b1-be5c-696eeba37839",
   "metadata": {},
   "outputs": [],
   "source": [
    "texto_exemplo = 'Ola, tudo bem?'"
   ]
  },
  {
   "cell_type": "code",
   "execution_count": 6,
   "id": "a788bfd2-c140-4d2b-9f69-a5d2adfa4051",
   "metadata": {},
   "outputs": [],
   "source": [
    "palavras_separadas = nltk.tokenize.word_tokenize(texto_exemplo)"
   ]
  },
  {
   "cell_type": "code",
   "execution_count": 7,
   "id": "23b906b1-7cee-4102-a11e-0a123e6bbc41",
   "metadata": {},
   "outputs": [
    {
     "data": {
      "text/plain": [
       "['Ola', ',', 'tudo', 'bem', '?']"
      ]
     },
     "execution_count": 7,
     "metadata": {},
     "output_type": "execute_result"
    }
   ],
   "source": [
    "palavras_separadas"
   ]
  },
  {
   "cell_type": "code",
   "execution_count": 8,
   "id": "295378eb-e7cf-49cc-973e-0c4915906a5d",
   "metadata": {},
   "outputs": [],
   "source": [
    "def separa_palavras(lista_tokens):\n",
    "    return [token for token in lista_tokens if token.isalpha()]"
   ]
  },
  {
   "cell_type": "code",
   "execution_count": 9,
   "id": "f9d36a80-cf1b-439b-ad49-61792222d9b5",
   "metadata": {},
   "outputs": [
    {
     "data": {
      "text/plain": [
       "['Ola', 'tudo', 'bem']"
      ]
     },
     "execution_count": 9,
     "metadata": {},
     "output_type": "execute_result"
    }
   ],
   "source": [
    "separa_palavras(palavras_separadas)"
   ]
  },
  {
   "cell_type": "code",
   "execution_count": 10,
   "id": "35922c45-187a-404a-b64a-17836f46a6dc",
   "metadata": {},
   "outputs": [],
   "source": [
    "lista_tokens = nltk.tokenize.word_tokenize(artigos)"
   ]
  },
  {
   "cell_type": "code",
   "execution_count": 11,
   "id": "c6e3d12e-f66c-4574-91bd-d21d15d8acbc",
   "metadata": {},
   "outputs": [],
   "source": [
    "lista_palavras = separa_palavras(lista_tokens)"
   ]
  },
  {
   "cell_type": "code",
   "execution_count": 12,
   "id": "28e50b43-5181-4b6e-bc3a-80a52829e259",
   "metadata": {},
   "outputs": [
    {
     "data": {
      "text/plain": [
       "403031"
      ]
     },
     "execution_count": 12,
     "metadata": {},
     "output_type": "execute_result"
    }
   ],
   "source": [
    "len(lista_palavras)"
   ]
  },
  {
   "cell_type": "code",
   "execution_count": 13,
   "id": "5de5d6ad-b17a-4ff2-b2f0-f392e0138657",
   "metadata": {},
   "outputs": [
    {
     "data": {
      "text/plain": [
       "['imagem', 'Temos', 'a', 'seguinte', 'classe']"
      ]
     },
     "execution_count": 13,
     "metadata": {},
     "output_type": "execute_result"
    }
   ],
   "source": [
    "tokens[:5]"
   ]
  },
  {
   "cell_type": "code",
   "execution_count": 14,
   "id": "2afaae65-4354-4b45-b5ac-813f12c2a73d",
   "metadata": {},
   "outputs": [],
   "source": [
    "def normalizacao(lista_palavras):\n",
    "    return [palavra.lower() for palavra in lista_palavras]"
   ]
  },
  {
   "cell_type": "code",
   "execution_count": 15,
   "id": "73b349d9-342c-48ab-a713-b223d30e6bf3",
   "metadata": {},
   "outputs": [],
   "source": [
    "lista_normalizada = normalizacao(lista_palavras)"
   ]
  },
  {
   "cell_type": "code",
   "execution_count": 16,
   "id": "74871f1d-5290-4c49-848a-4490f01450ff",
   "metadata": {},
   "outputs": [
    {
     "data": {
      "text/plain": [
       "['imagem', 'temos', 'a', 'seguinte', 'classe']"
      ]
     },
     "execution_count": 16,
     "metadata": {},
     "output_type": "execute_result"
    }
   ],
   "source": [
    "lista_normalizada[:5]"
   ]
  },
  {
   "cell_type": "code",
   "execution_count": 17,
   "id": "97448bd3-b430-4060-b34e-b7e496d4c6b4",
   "metadata": {},
   "outputs": [
    {
     "data": {
      "text/plain": [
       "18464"
      ]
     },
     "execution_count": 17,
     "metadata": {},
     "output_type": "execute_result"
    }
   ],
   "source": [
    "len(set(lista_normalizada))"
   ]
  },
  {
   "cell_type": "markdown",
   "id": "a12f506e-4781-4d76-a6a4-d3fbbaddbfea",
   "metadata": {},
   "source": [
    "### AULA 3"
   ]
  },
  {
   "cell_type": "code",
   "execution_count": 18,
   "id": "e3ee643e-760d-4f3d-be2f-1273128a4ced",
   "metadata": {},
   "outputs": [],
   "source": [
    "palavra_exemplo = 'lgica'"
   ]
  },
  {
   "cell_type": "code",
   "execution_count": 19,
   "id": "cc09d318-6aaf-4cee-b450-f6ee37df859c",
   "metadata": {},
   "outputs": [],
   "source": [
    "def insere_letras(fatias):\n",
    "    letras = 'abcdefghijklmnopqrstuvwxyzàáâãèéêìíîòóôõùúûç'\n",
    "    return [E+letra+D for letra in letras for E,D in fatias]"
   ]
  },
  {
   "cell_type": "code",
   "execution_count": 20,
   "id": "3bdb46f1-8b27-4241-beb4-cc70d3053927",
   "metadata": {},
   "outputs": [],
   "source": [
    "def gerador_palavras(palavra):\n",
    "    fatias = [(palavra[:i], palavra[i:]) for i in range(len(palavra)+1)]\n",
    "    return insere_letras(fatias)"
   ]
  },
  {
   "cell_type": "code",
   "execution_count": 21,
   "id": "5f4ae655-6671-4704-ae38-951cb19bd9da",
   "metadata": {},
   "outputs": [],
   "source": [
    "palavras_geradas = gerador_palavras(palavra_exemplo)"
   ]
  },
  {
   "cell_type": "code",
   "execution_count": 22,
   "id": "21210c72-a345-40e5-bf18-658b27fe4c94",
   "metadata": {},
   "outputs": [
    {
     "data": {
      "text/plain": [
       "['algica', 'lagica', 'lgaica', 'lgiaca', 'lgicaa']"
      ]
     },
     "execution_count": 22,
     "metadata": {},
     "output_type": "execute_result"
    }
   ],
   "source": [
    "palavras_geradas[:5]"
   ]
  },
  {
   "cell_type": "code",
   "execution_count": 23,
   "id": "9a0dc813-abc0-4eba-9d8f-8ff2d9d38cbc",
   "metadata": {},
   "outputs": [],
   "source": [
    "frequencia = nltk.FreqDist(lista_normalizada)"
   ]
  },
  {
   "cell_type": "code",
   "execution_count": 24,
   "id": "0604baad-546f-4f10-8567-06fc0f655983",
   "metadata": {},
   "outputs": [
    {
     "data": {
      "text/plain": [
       "[('de', 15502),\n",
       " ('o', 14056),\n",
       " ('que', 12230),\n",
       " ('a', 11099),\n",
       " ('e', 10501),\n",
       " ('para', 7710),\n",
       " ('um', 6367),\n",
       " ('é', 5899),\n",
       " ('uma', 5220),\n",
       " ('do', 5124)]"
      ]
     },
     "execution_count": 24,
     "metadata": {},
     "output_type": "execute_result"
    }
   ],
   "source": [
    "frequencia.most_common(10)"
   ]
  },
  {
   "cell_type": "code",
   "execution_count": 25,
   "id": "b52787eb-765c-4021-8186-f9dd67b1a441",
   "metadata": {},
   "outputs": [
    {
     "data": {
      "text/plain": [
       "96"
      ]
     },
     "execution_count": 25,
     "metadata": {},
     "output_type": "execute_result"
    }
   ],
   "source": [
    "frequencia['lógica']"
   ]
  },
  {
   "cell_type": "code",
   "execution_count": 26,
   "id": "b095f48a-a9ab-4f8c-a910-45160cc2af36",
   "metadata": {},
   "outputs": [],
   "source": [
    "total_palavras = len(lista_normalizada)"
   ]
  },
  {
   "cell_type": "code",
   "execution_count": 27,
   "id": "e52210c7-be8d-4f32-ad03-2be532c9ce69",
   "metadata": {},
   "outputs": [],
   "source": [
    "def probabilidade(palavra_gerada):\n",
    "    return frequencia[palavra_gerada]/total_palavras"
   ]
  },
  {
   "cell_type": "code",
   "execution_count": 28,
   "id": "d590f2a5-ca51-494c-ae96-070acc4fcbd4",
   "metadata": {},
   "outputs": [
    {
     "data": {
      "text/plain": [
       "0.00023819507680550628"
      ]
     },
     "execution_count": 28,
     "metadata": {},
     "output_type": "execute_result"
    }
   ],
   "source": [
    "probabilidade('lógica')"
   ]
  },
  {
   "cell_type": "code",
   "execution_count": 29,
   "id": "d6498d94-92a6-4d5e-bc52-c2ee8886cca8",
   "metadata": {},
   "outputs": [
    {
     "data": {
      "text/plain": [
       "0.0"
      ]
     },
     "execution_count": 29,
     "metadata": {},
     "output_type": "execute_result"
    }
   ],
   "source": [
    "probabilidade('logica')"
   ]
  },
  {
   "cell_type": "code",
   "execution_count": 30,
   "id": "11c2ee0b-0697-40fd-aff9-7d9e1fe2f146",
   "metadata": {},
   "outputs": [],
   "source": [
    "def corretor(palavra):\n",
    "    return max(gerador_palavras(palavra), key=probabilidade)"
   ]
  },
  {
   "cell_type": "code",
   "execution_count": 31,
   "id": "7c11eb65-a179-4a71-8c42-57bcc2b23d79",
   "metadata": {},
   "outputs": [
    {
     "data": {
      "text/plain": [
       "'lógica'"
      ]
     },
     "execution_count": 31,
     "metadata": {},
     "output_type": "execute_result"
    }
   ],
   "source": [
    "corretor(palavra_exemplo)"
   ]
  },
  {
   "cell_type": "markdown",
   "id": "949cc17c-bdd4-417d-ac7b-b736acf0037d",
   "metadata": {},
   "source": [
    "### AULA 4"
   ]
  },
  {
   "cell_type": "code",
   "execution_count": 32,
   "id": "a97b8c2e-060c-4ce4-b9eb-9759c49a10b6",
   "metadata": {},
   "outputs": [],
   "source": [
    "def cria_dados_teste(arquivo):\n",
    "    with open(arquivo, 'r', encoding='utf8') as f:\n",
    "        return [tuple(linha.split()) for linha in f]"
   ]
  },
  {
   "cell_type": "code",
   "execution_count": 33,
   "id": "804891c8-ce42-4915-8344-be4a28170012",
   "metadata": {},
   "outputs": [],
   "source": [
    "lista_teste = cria_dados_teste('res/palavras.txt')"
   ]
  },
  {
   "cell_type": "code",
   "execution_count": 34,
   "id": "3e08aebb-b886-4e24-b00f-1bdc844717f3",
   "metadata": {},
   "outputs": [
    {
     "data": {
      "text/plain": [
       "[('podemos', 'pyodemos'),\n",
       " ('esse', 'esje'),\n",
       " ('já', 'jrá'),\n",
       " ('nosso', 'nossov'),\n",
       " ('são', 'sãêo')]"
      ]
     },
     "execution_count": 34,
     "metadata": {},
     "output_type": "execute_result"
    }
   ],
   "source": [
    "lista_teste[:5]"
   ]
  },
  {
   "cell_type": "code",
   "execution_count": 36,
   "id": "31c7a2cc-0089-45b4-a471-c0e10cfdebca",
   "metadata": {},
   "outputs": [],
   "source": [
    "def avaliador(testes):\n",
    "    numero_palavras = len(testes)\n",
    "    acertou = 0\n",
    "    for correta, errada in testes:\n",
    "        palavra_corrigida = corretor(errada)\n",
    "        if palavra_corrigida == correta:\n",
    "            acertou += 1\n",
    "    taxa_acerto = round(acertou*100/numero_palavras, 2)\n",
    "    print(f'{taxa_acerto}% de {numero_palavras} palavras')"
   ]
  },
  {
   "cell_type": "code",
   "execution_count": 37,
   "id": "c2c0ecb0-d25b-43f4-8403-2f695807e496",
   "metadata": {},
   "outputs": [
    {
     "name": "stdout",
     "output_type": "stream",
     "text": [
      "1.08% de 186 palavras\n"
     ]
    }
   ],
   "source": [
    "avaliador(lista_teste)"
   ]
  },
  {
   "cell_type": "markdown",
   "id": "2ad61986-8740-4efe-a7cd-80f179c99b4b",
   "metadata": {},
   "source": [
    "### AULA 5"
   ]
  },
  {
   "cell_type": "code",
   "execution_count": 39,
   "id": "9de6c76b-df93-4029-b9d7-08795e9e8dbe",
   "metadata": {},
   "outputs": [],
   "source": [
    "def deletando_caracters(fatias):\n",
    "    return [E+D[1:] for E, D in fatias]"
   ]
  },
  {
   "cell_type": "code",
   "execution_count": 40,
   "id": "5b243852-1cea-4db6-b3ad-0f49c5ac82e7",
   "metadata": {},
   "outputs": [],
   "source": [
    "def gerador_palavras(palavra):\n",
    "    fatias = [(palavra[:i], palavra[i:]) for i in range(len(palavra)+1)]\n",
    "    return insere_letras(fatias) + deletando_caracters(fatias)"
   ]
  },
  {
   "cell_type": "code",
   "execution_count": 41,
   "id": "70de5f5e-4d11-4e35-afe9-d76c9d459608",
   "metadata": {},
   "outputs": [],
   "source": [
    "palavra_exemplo = 'lóigica'"
   ]
  },
  {
   "cell_type": "code",
   "execution_count": 42,
   "id": "b8a59702-d6c7-4a8b-8e97-3b34a695385d",
   "metadata": {},
   "outputs": [],
   "source": [
    "palavras_geradas = gerador_palavras(palavra_exemplo)"
   ]
  },
  {
   "cell_type": "code",
   "execution_count": 49,
   "id": "8ee8b091-c950-4041-af06-9f2e337e8f4b",
   "metadata": {},
   "outputs": [
    {
     "data": {
      "text/plain": [
       "['óigica',\n",
       " 'ligica',\n",
       " 'lógica',\n",
       " 'lóiica',\n",
       " 'lóigca',\n",
       " 'lóigia',\n",
       " 'lóigic',\n",
       " 'lóigica']"
      ]
     },
     "execution_count": 49,
     "metadata": {},
     "output_type": "execute_result"
    }
   ],
   "source": [
    "palavras_geradas[-8:]"
   ]
  },
  {
   "cell_type": "code",
   "execution_count": 50,
   "id": "72569138-33e7-4bd4-879e-df45c9283272",
   "metadata": {},
   "outputs": [
    {
     "name": "stdout",
     "output_type": "stream",
     "text": [
      "41.4% de 186 palavras\n"
     ]
    }
   ],
   "source": [
    "avaliador(lista_teste)"
   ]
  },
  {
   "cell_type": "markdown",
   "id": "0f80fffe-2420-4174-a7e0-7afb0a7f3c87",
   "metadata": {},
   "source": [
    "### AULA 6"
   ]
  },
  {
   "cell_type": "code",
   "execution_count": 52,
   "id": "8c82f7a1-99ec-4762-aa0f-00f1efc4bbc8",
   "metadata": {},
   "outputs": [],
   "source": [
    "def troca_letra(fatias):\n",
    "    letras = 'abcdefghijklmnopqrstuvwxyzáàãâéèêíìóòõôúùûç'\n",
    "    return [E+letra+D[1:] for E,D in fatias for letra in letras]"
   ]
  },
  {
   "cell_type": "code",
   "execution_count": 55,
   "id": "bd239e78-f440-41b6-9fde-c87e8262c2fe",
   "metadata": {},
   "outputs": [],
   "source": [
    "def gerador_palavras(palavra):\n",
    "    fatias = [(palavra[:i], palavra[i:]) for i in range(len(palavra)+1)]\n",
    "    return insere_letras(fatias) + deletando_caracters(fatias) + troca_letra(fatias)"
   ]
  },
  {
   "cell_type": "code",
   "execution_count": 56,
   "id": "bc644fcb-57d1-40c9-99fb-3dcd13c092fd",
   "metadata": {},
   "outputs": [],
   "source": [
    "palavra_exemplo = 'lígica'"
   ]
  },
  {
   "cell_type": "code",
   "execution_count": 57,
   "id": "8cfafdb9-b4c7-44e9-8715-067e63af281a",
   "metadata": {},
   "outputs": [],
   "source": [
    "palavras_geradas = gerador_palavras(palavra_exemplo)"
   ]
  },
  {
   "cell_type": "code",
   "execution_count": 60,
   "id": "dbeb620b-a703-4264-8b1c-94571287d178",
   "metadata": {},
   "outputs": [
    {
     "name": "stdout",
     "output_type": "stream",
     "text": [
      "76.34% de 186 palavras\n"
     ]
    }
   ],
   "source": [
    "avaliador(lista_teste)"
   ]
  },
  {
   "cell_type": "code",
   "execution_count": 63,
   "id": "dd3f055e-77a3-4c06-8c6a-de5036185380",
   "metadata": {},
   "outputs": [],
   "source": [
    "def inverte_letra(fatias):\n",
    "    return [E+D[1]+D[0]+D[2:] for E,D in fatias if len(D) > 1]"
   ]
  },
  {
   "cell_type": "code",
   "execution_count": 64,
   "id": "fc07e264-640a-47cd-8457-45b705783f7f",
   "metadata": {},
   "outputs": [],
   "source": [
    "def gerador_palavras(palavra):\n",
    "    fatias = [(palavra[:i], palavra[i:]) for i in range(len(palavra)+1)]\n",
    "    return insere_letras(fatias) + deletando_caracters(fatias) + troca_letra(fatias) + inverte_letra(fatias)"
   ]
  },
  {
   "cell_type": "code",
   "execution_count": 65,
   "id": "aa5cf7fd-9cfa-404b-96e7-8a6d951237f7",
   "metadata": {},
   "outputs": [],
   "source": [
    "palavra_exemplo = 'lgóica'"
   ]
  },
  {
   "cell_type": "code",
   "execution_count": 66,
   "id": "c3c10282-f9bf-4782-ad14-383673808491",
   "metadata": {},
   "outputs": [],
   "source": [
    "palavras_geradas = gerador_palavras(palavra_exemplo)"
   ]
  },
  {
   "cell_type": "code",
   "execution_count": 67,
   "id": "9ee3d5ef-957e-40cd-89bc-2b1f6c197e9c",
   "metadata": {},
   "outputs": [
    {
     "name": "stdout",
     "output_type": "stream",
     "text": [
      "76.34% de 186 palavras\n"
     ]
    }
   ],
   "source": [
    "avaliador(lista_teste)"
   ]
  },
  {
   "cell_type": "code",
   "execution_count": null,
   "id": "02b21046-f5bc-46f4-b1c0-0858cdd2d385",
   "metadata": {},
   "outputs": [],
   "source": []
  }
 ],
 "metadata": {
  "kernelspec": {
   "display_name": "Python 3 (ipykernel)",
   "language": "python",
   "name": "python3"
  },
  "language_info": {
   "codemirror_mode": {
    "name": "ipython",
    "version": 3
   },
   "file_extension": ".py",
   "mimetype": "text/x-python",
   "name": "python",
   "nbconvert_exporter": "python",
   "pygments_lexer": "ipython3",
   "version": "3.9.13"
  }
 },
 "nbformat": 4,
 "nbformat_minor": 5
}
