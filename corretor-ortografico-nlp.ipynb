{
 "cells": [
  {
   "cell_type": "markdown",
   "id": "744d0418-6cd2-4310-9388-713a08f30bfe",
   "metadata": {},
   "source": [
    "# CORRETOR ORTOGRAFICO NLP"
   ]
  },
  {
   "cell_type": "code",
   "execution_count": 7,
   "id": "959b75b5-b75f-4f4f-aef4-e811607893e0",
   "metadata": {},
   "outputs": [],
   "source": [
    "import nltk"
   ]
  },
  {
   "cell_type": "markdown",
   "id": "e3ca9b6a-daac-4de0-98c7-78b6ac15290d",
   "metadata": {},
   "source": [
    "### AULA 1"
   ]
  },
  {
   "cell_type": "code",
   "execution_count": 3,
   "id": "9a492f88-1a5c-4ea3-a20b-84ef7928096a",
   "metadata": {},
   "outputs": [
    {
     "data": {
      "text/plain": [
       "'\\n\\n\\nimagem \\n\\nTemos a seguinte classe que representa um usuário no nosso sistema:\\n\\njava\\n\\nPara salvar um novo usuário, várias validações são feitas, como por exemplo: Ver se o nome só contém letras, [**o CPF só números**] e ver se o usuário possui no mínimo 18 anos. Veja o método que faz essa validação:\\n\\njava \\n\\nSuponha agora que eu tenha outra classe, a classe `Produto`, que contém um atributo nome e eu quero fazer a mesma validação que fiz para o nome do usuário: Ver se só contém letras. E aí? Vou'"
      ]
     },
     "execution_count": 3,
     "metadata": {},
     "output_type": "execute_result"
    }
   ],
   "source": [
    "with open('res/artigos.txt', 'r', encoding='utf-8') as f:\n",
    "    artigos = f.read()\n",
    "artigos[:500]"
   ]
  },
  {
   "cell_type": "code",
   "execution_count": 4,
   "id": "dd46b4e2-b7a6-4868-8ff2-c7f9c7b4b309",
   "metadata": {},
   "outputs": [
    {
     "data": {
      "text/plain": [
       "91"
      ]
     },
     "execution_count": 4,
     "metadata": {},
     "output_type": "execute_result"
    }
   ],
   "source": [
    "tokens = artigos[:500].split()\n",
    "len(tokens)"
   ]
  },
  {
   "cell_type": "code",
   "execution_count": 6,
   "id": "79c4b862-5107-4982-b464-3e3b23c98b30",
   "metadata": {},
   "outputs": [
    {
     "data": {
      "text/plain": [
       "['imagem', 'Temos', 'a', 'seguinte', 'classe']"
      ]
     },
     "execution_count": 6,
     "metadata": {},
     "output_type": "execute_result"
    }
   ],
   "source": [
    "tokens[:5]"
   ]
  },
  {
   "cell_type": "markdown",
   "id": "bb07e0bb-b567-4f1b-b0dd-d1d9880a97aa",
   "metadata": {},
   "source": [
    "### AULA 2"
   ]
  },
  {
   "cell_type": "code",
   "execution_count": 8,
   "id": "7f9afa35-167f-44b1-be5c-696eeba37839",
   "metadata": {},
   "outputs": [],
   "source": [
    "texto_exemplo = 'Ola, tudo bem?'"
   ]
  },
  {
   "cell_type": "code",
   "execution_count": 9,
   "id": "a788bfd2-c140-4d2b-9f69-a5d2adfa4051",
   "metadata": {},
   "outputs": [],
   "source": [
    "palavras_separadas = nltk.tokenize.word_tokenize(texto_exemplo)"
   ]
  },
  {
   "cell_type": "code",
   "execution_count": 10,
   "id": "23b906b1-7cee-4102-a11e-0a123e6bbc41",
   "metadata": {},
   "outputs": [
    {
     "data": {
      "text/plain": [
       "['Ola', ',', 'tudo', 'bem', '?']"
      ]
     },
     "execution_count": 10,
     "metadata": {},
     "output_type": "execute_result"
    }
   ],
   "source": [
    "palavras_separadas"
   ]
  },
  {
   "cell_type": "code",
   "execution_count": 12,
   "id": "295378eb-e7cf-49cc-973e-0c4915906a5d",
   "metadata": {},
   "outputs": [],
   "source": [
    "def separa_palavras(lista_tokens):\n",
    "    return [token for token in lista_tokens if token.isalpha()]"
   ]
  },
  {
   "cell_type": "code",
   "execution_count": 14,
   "id": "f9d36a80-cf1b-439b-ad49-61792222d9b5",
   "metadata": {},
   "outputs": [
    {
     "data": {
      "text/plain": [
       "['Ola', 'tudo', 'bem']"
      ]
     },
     "execution_count": 14,
     "metadata": {},
     "output_type": "execute_result"
    }
   ],
   "source": [
    "separa_palavras(palavras_separadas)"
   ]
  },
  {
   "cell_type": "code",
   "execution_count": 15,
   "id": "35922c45-187a-404a-b64a-17836f46a6dc",
   "metadata": {},
   "outputs": [],
   "source": [
    "lista_tokens = nltk.tokenize.word_tokenize(artigos)"
   ]
  },
  {
   "cell_type": "code",
   "execution_count": 16,
   "id": "c6e3d12e-f66c-4574-91bd-d21d15d8acbc",
   "metadata": {},
   "outputs": [],
   "source": [
    "lista_palavras = separa_palavras(lista_tokens)"
   ]
  },
  {
   "cell_type": "code",
   "execution_count": 17,
   "id": "28e50b43-5181-4b6e-bc3a-80a52829e259",
   "metadata": {},
   "outputs": [
    {
     "data": {
      "text/plain": [
       "403031"
      ]
     },
     "execution_count": 17,
     "metadata": {},
     "output_type": "execute_result"
    }
   ],
   "source": [
    "len(lista_palavras)"
   ]
  },
  {
   "cell_type": "code",
   "execution_count": 21,
   "id": "5de5d6ad-b17a-4ff2-b2f0-f392e0138657",
   "metadata": {},
   "outputs": [
    {
     "data": {
      "text/plain": [
       "['imagem', 'Temos', 'a', 'seguinte', 'classe']"
      ]
     },
     "execution_count": 21,
     "metadata": {},
     "output_type": "execute_result"
    }
   ],
   "source": [
    "tokens[:5]"
   ]
  },
  {
   "cell_type": "code",
   "execution_count": 22,
   "id": "2afaae65-4354-4b45-b5ac-813f12c2a73d",
   "metadata": {},
   "outputs": [],
   "source": [
    "def normalizacao(lista_palavras):\n",
    "    return [palavra.lower() for palavra in lista_palavras]"
   ]
  },
  {
   "cell_type": "code",
   "execution_count": 23,
   "id": "73b349d9-342c-48ab-a713-b223d30e6bf3",
   "metadata": {},
   "outputs": [],
   "source": [
    "lista_normalizada = normalizacao(lista_palavras)"
   ]
  },
  {
   "cell_type": "code",
   "execution_count": 24,
   "id": "74871f1d-5290-4c49-848a-4490f01450ff",
   "metadata": {},
   "outputs": [
    {
     "data": {
      "text/plain": [
       "['imagem', 'temos', 'a', 'seguinte', 'classe']"
      ]
     },
     "execution_count": 24,
     "metadata": {},
     "output_type": "execute_result"
    }
   ],
   "source": [
    "lista_normalizada[:5]"
   ]
  },
  {
   "cell_type": "code",
   "execution_count": 25,
   "id": "97448bd3-b430-4060-b34e-b7e496d4c6b4",
   "metadata": {},
   "outputs": [
    {
     "data": {
      "text/plain": [
       "18464"
      ]
     },
     "execution_count": 25,
     "metadata": {},
     "output_type": "execute_result"
    }
   ],
   "source": [
    "len(set(lista_normalizada))"
   ]
  },
  {
   "cell_type": "code",
   "execution_count": null,
   "id": "0428f961-1072-4cf3-a8ae-cdd8e2d9e415",
   "metadata": {},
   "outputs": [],
   "source": []
  }
 ],
 "metadata": {
  "kernelspec": {
   "display_name": "Python 3 (ipykernel)",
   "language": "python",
   "name": "python3"
  },
  "language_info": {
   "codemirror_mode": {
    "name": "ipython",
    "version": 3
   },
   "file_extension": ".py",
   "mimetype": "text/x-python",
   "name": "python",
   "nbconvert_exporter": "python",
   "pygments_lexer": "ipython3",
   "version": "3.9.13"
  }
 },
 "nbformat": 4,
 "nbformat_minor": 5
}
